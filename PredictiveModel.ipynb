{
 "cells": [
  {
   "cell_type": "markdown",
   "metadata": {},
   "source": [
    "# <p style=\"text-align: center;\">NOVA IMS</p>\n",
    "\n",
    "# <p style=\"text-align: center;\">Machine Learning and Data Science Project</p>"
   ]
  },
  {
   "cell_type": "markdown",
   "metadata": {},
   "source": [
    "# Business Understanding\n",
    "\n",
    "<p style=\"text-align: justify\"> LaGoste Stores is a company that operates in the fashion, sports and luxury sectors. Their products offer consists in five categories: Sneakers, Rackets, T-Shirts, Watches and Hats, each one divided in Premium Brand and Mainstream Articles. All the products can be purchased in physical stores, in their website or ordered through their quaterly catalogs. Currently, they sell their products to more than one million consumers every year and they have around 300 000 registered customers</p>"
   ]
  },
  {
   "cell_type": "markdown",
   "metadata": {},
   "source": [
    "# The Challenge\n",
    "<p style=\"text-align: justify\">In spite of having solid revenues and a healthy bottom line for the past five years, the company's profit growth perspectives for the next two years are not optimistic. In order to change those perspectives the company is outlining some strategic initiatives.</p>"
   ]
  },
  {
   "cell_type": "markdown",
   "metadata": {},
   "source": [
    "# Objective\n",
    "<p style=\"text-align: justify\">One of the strategies being studied and that will play an important role in the profit growth is the efficiency of the marketing campaigns.</p>\n",
    "<p style=\"text-align: justify\">Therefore, based on the company's customer database we will have to use quantitative technics to identify relevant segments of clients and define a profile for each one.</p>\n",
    "<p style=\"text-align: justify\">The marketing department is planning a direct campaign aiming the sell of a new product, as this campaign has costs the Marketing department has already carried out pilot campaign where they contacted 2500 clients and took note if the client accepted (bought the new product) or not the campaign. 12,5% of the customers contacted has accepted the campaign which lead the company to a negative profit of around 3750€.</p>\n",
    "<p style=\"text-align: justify\">Our Job is to predict a model a predictive model for a dependent variable representing Customers that have higher potential of answering positively to the new product direct marketing campaign. .</p>\n",
    "<p style=\"text-align: justify\">To be able to build a good predictive model, we'll study several models and access which is the best one.</b></p>\n",
    "<p style=\"text-align: justify\"> In the end, we will calculate an approximation of the profit that the company will have after contacting only the customers that have the biggest potential to buy the new product, saving the costs of contacting customers that wouldn't buy it.</p>\n",
    "\n",
    "The objective of the team is to build a predictive model that will produce the highest profit for the next direct marketing campaign of the company – the sixth campaign this year that is scheduled for next month. The campaign aims at selling a new product to the customer database (potential of 250,000 customers). T"
   ]
  },
  {
   "cell_type": "markdown",
   "metadata": {},
   "source": [
    "## Import libraries"
   ]
  },
  {
   "cell_type": "markdown",
   "metadata": {},
   "source": [
    "We will start by importing some of the libraries and modules that we will need to use in this file."
   ]
  },
  {
   "cell_type": "code",
   "execution_count": 1,
   "metadata": {},
   "outputs": [
    {
     "name": "stderr",
     "output_type": "stream",
     "text": [
      "C:\\Users\\pedro\\Anaconda3\\lib\\site-packages\\statsmodels\\tools\\_testing.py:19: FutureWarning: pandas.util.testing is deprecated. Use the functions in the public API at pandas.testing instead.\n",
      "  import pandas.util.testing as tm\n"
     ]
    }
   ],
   "source": [
    "import pandas as pd\n",
    "import numpy as np\n",
    "import seaborn as sns\n",
    "import matplotlib.pyplot as plt\n",
    "import time\n",
    "from sklearn.model_selection import train_test_split\n",
    "from sklearn.model_selection import KFold\n",
    "from sklearn.linear_model import LogisticRegression\n",
    "from sklearn.model_selection import RepeatedKFold\n",
    "from sklearn.tree import DecisionTreeClassifier\n",
    "from sklearn.linear_model import LogisticRegression\n",
    "from sklearn.metrics import confusion_matrix, accuracy_score, precision_score, recall_score, f1_score\n",
    "from sklearn.metrics import classification_report\n",
    "from sklearn.svm import SVC\n",
    "from sklearn.ensemble import RandomForestClassifier\n",
    "from sklearn.neural_network import MLPClassifier\n",
    "from sklearn.model_selection import GridSearchCV\n",
    "from sklearn.metrics import roc_curve, roc_auc_score\n",
    "from sklearn.preprocessing import RobustScaler\n",
    "\n",
    "import warnings\n",
    "warnings.filterwarnings('ignore')"
   ]
  },
  {
   "cell_type": "markdown",
   "metadata": {},
   "source": [
    "## Import Dataset\n",
    "\n",
    "<p style=\"text-align: justify\">We will use the dataset we've treated in our first assignment so it is already pre-proccessed.</p>"
   ]
  },
  {
   "cell_type": "code",
   "execution_count": 2,
   "metadata": {},
   "outputs": [],
   "source": [
    "dataset = pd.read_csv(\"marketing_dataset.csv\", index_col=\"Custid\")"
   ]
  },
  {
   "cell_type": "code",
   "execution_count": 3,
   "metadata": {},
   "outputs": [
    {
     "data": {
      "text/html": [
       "<div>\n",
       "<style scoped>\n",
       "    .dataframe tbody tr th:only-of-type {\n",
       "        vertical-align: middle;\n",
       "    }\n",
       "\n",
       "    .dataframe tbody tr th {\n",
       "        vertical-align: top;\n",
       "    }\n",
       "\n",
       "    .dataframe thead th {\n",
       "        text-align: right;\n",
       "    }\n",
       "</style>\n",
       "<table border=\"1\" class=\"dataframe\">\n",
       "  <thead>\n",
       "    <tr style=\"text-align: right;\">\n",
       "      <th></th>\n",
       "      <th>Education</th>\n",
       "      <th>Marital_Status</th>\n",
       "      <th>Income</th>\n",
       "      <th>Kidhome</th>\n",
       "      <th>Teenhome</th>\n",
       "      <th>Recency</th>\n",
       "      <th>MntSneakers</th>\n",
       "      <th>MntTShirts</th>\n",
       "      <th>MntRackets</th>\n",
       "      <th>MntWatches</th>\n",
       "      <th>...</th>\n",
       "      <th>Complain</th>\n",
       "      <th>DepVar</th>\n",
       "      <th>Age</th>\n",
       "      <th>TimeAsCustomer</th>\n",
       "      <th>TotalCampaigns</th>\n",
       "      <th>PremBrandFan</th>\n",
       "      <th>TotalMnt</th>\n",
       "      <th>TotalPurchases</th>\n",
       "      <th>HighEducation</th>\n",
       "      <th>MaritalStatusLabel</th>\n",
       "    </tr>\n",
       "    <tr>\n",
       "      <th>Custid</th>\n",
       "      <th></th>\n",
       "      <th></th>\n",
       "      <th></th>\n",
       "      <th></th>\n",
       "      <th></th>\n",
       "      <th></th>\n",
       "      <th></th>\n",
       "      <th></th>\n",
       "      <th></th>\n",
       "      <th></th>\n",
       "      <th></th>\n",
       "      <th></th>\n",
       "      <th></th>\n",
       "      <th></th>\n",
       "      <th></th>\n",
       "      <th></th>\n",
       "      <th></th>\n",
       "      <th></th>\n",
       "      <th></th>\n",
       "      <th></th>\n",
       "      <th></th>\n",
       "    </tr>\n",
       "  </thead>\n",
       "  <tbody>\n",
       "    <tr>\n",
       "      <th>70012576</th>\n",
       "      <td>2n Cycle</td>\n",
       "      <td>Single</td>\n",
       "      <td>0.652412</td>\n",
       "      <td>0.0</td>\n",
       "      <td>0.0</td>\n",
       "      <td>0.0</td>\n",
       "      <td>0.126253</td>\n",
       "      <td>0.521739</td>\n",
       "      <td>0.379586</td>\n",
       "      <td>0.432584</td>\n",
       "      <td>...</td>\n",
       "      <td>0</td>\n",
       "      <td>0</td>\n",
       "      <td>0.527273</td>\n",
       "      <td>1079</td>\n",
       "      <td>0.00</td>\n",
       "      <td>0</td>\n",
       "      <td>0.486694</td>\n",
       "      <td>0.526316</td>\n",
       "      <td>1</td>\n",
       "      <td>2</td>\n",
       "    </tr>\n",
       "    <tr>\n",
       "      <th>70034556</th>\n",
       "      <td>Basic</td>\n",
       "      <td>Together</td>\n",
       "      <td>0.402560</td>\n",
       "      <td>0.0</td>\n",
       "      <td>0.5</td>\n",
       "      <td>0.0</td>\n",
       "      <td>0.482298</td>\n",
       "      <td>0.096990</td>\n",
       "      <td>0.192128</td>\n",
       "      <td>0.050562</td>\n",
       "      <td>...</td>\n",
       "      <td>0</td>\n",
       "      <td>0</td>\n",
       "      <td>0.636364</td>\n",
       "      <td>1723</td>\n",
       "      <td>0.25</td>\n",
       "      <td>0</td>\n",
       "      <td>0.348906</td>\n",
       "      <td>0.526316</td>\n",
       "      <td>0</td>\n",
       "      <td>3</td>\n",
       "    </tr>\n",
       "    <tr>\n",
       "      <th>70021396</th>\n",
       "      <td>Graduation</td>\n",
       "      <td>Married</td>\n",
       "      <td>0.291219</td>\n",
       "      <td>1.0</td>\n",
       "      <td>0.0</td>\n",
       "      <td>0.0</td>\n",
       "      <td>0.013360</td>\n",
       "      <td>0.020067</td>\n",
       "      <td>0.008005</td>\n",
       "      <td>0.011236</td>\n",
       "      <td>...</td>\n",
       "      <td>0</td>\n",
       "      <td>0</td>\n",
       "      <td>0.381818</td>\n",
       "      <td>1308</td>\n",
       "      <td>0.00</td>\n",
       "      <td>0</td>\n",
       "      <td>0.015080</td>\n",
       "      <td>0.289474</td>\n",
       "      <td>1</td>\n",
       "      <td>1</td>\n",
       "    </tr>\n",
       "    <tr>\n",
       "      <th>70035464</th>\n",
       "      <td>Graduation</td>\n",
       "      <td>Married</td>\n",
       "      <td>0.342804</td>\n",
       "      <td>0.0</td>\n",
       "      <td>0.5</td>\n",
       "      <td>0.0</td>\n",
       "      <td>0.052104</td>\n",
       "      <td>0.000000</td>\n",
       "      <td>0.011341</td>\n",
       "      <td>0.000000</td>\n",
       "      <td>...</td>\n",
       "      <td>0</td>\n",
       "      <td>0</td>\n",
       "      <td>0.672727</td>\n",
       "      <td>1228</td>\n",
       "      <td>0.00</td>\n",
       "      <td>0</td>\n",
       "      <td>0.028977</td>\n",
       "      <td>0.315789</td>\n",
       "      <td>1</td>\n",
       "      <td>1</td>\n",
       "    </tr>\n",
       "    <tr>\n",
       "      <th>70008640</th>\n",
       "      <td>Master</td>\n",
       "      <td>Married</td>\n",
       "      <td>0.550433</td>\n",
       "      <td>0.0</td>\n",
       "      <td>0.0</td>\n",
       "      <td>0.0</td>\n",
       "      <td>0.224449</td>\n",
       "      <td>0.652174</td>\n",
       "      <td>0.411608</td>\n",
       "      <td>0.932584</td>\n",
       "      <td>...</td>\n",
       "      <td>0</td>\n",
       "      <td>0</td>\n",
       "      <td>0.400000</td>\n",
       "      <td>1170</td>\n",
       "      <td>0.00</td>\n",
       "      <td>0</td>\n",
       "      <td>0.408338</td>\n",
       "      <td>0.578947</td>\n",
       "      <td>1</td>\n",
       "      <td>1</td>\n",
       "    </tr>\n",
       "    <tr>\n",
       "      <th>...</th>\n",
       "      <td>...</td>\n",
       "      <td>...</td>\n",
       "      <td>...</td>\n",
       "      <td>...</td>\n",
       "      <td>...</td>\n",
       "      <td>...</td>\n",
       "      <td>...</td>\n",
       "      <td>...</td>\n",
       "      <td>...</td>\n",
       "      <td>...</td>\n",
       "      <td>...</td>\n",
       "      <td>...</td>\n",
       "      <td>...</td>\n",
       "      <td>...</td>\n",
       "      <td>...</td>\n",
       "      <td>...</td>\n",
       "      <td>...</td>\n",
       "      <td>...</td>\n",
       "      <td>...</td>\n",
       "      <td>...</td>\n",
       "      <td>...</td>\n",
       "    </tr>\n",
       "    <tr>\n",
       "      <th>70011384</th>\n",
       "      <td>Graduation</td>\n",
       "      <td>Together</td>\n",
       "      <td>0.642138</td>\n",
       "      <td>0.0</td>\n",
       "      <td>0.0</td>\n",
       "      <td>1.0</td>\n",
       "      <td>0.680695</td>\n",
       "      <td>0.381271</td>\n",
       "      <td>0.596398</td>\n",
       "      <td>0.488764</td>\n",
       "      <td>...</td>\n",
       "      <td>0</td>\n",
       "      <td>0</td>\n",
       "      <td>0.890909</td>\n",
       "      <td>1305</td>\n",
       "      <td>0.50</td>\n",
       "      <td>0</td>\n",
       "      <td>0.709639</td>\n",
       "      <td>0.921053</td>\n",
       "      <td>1</td>\n",
       "      <td>3</td>\n",
       "    </tr>\n",
       "    <tr>\n",
       "      <th>70034628</th>\n",
       "      <td>Graduation</td>\n",
       "      <td>Married</td>\n",
       "      <td>0.492810</td>\n",
       "      <td>0.5</td>\n",
       "      <td>0.5</td>\n",
       "      <td>1.0</td>\n",
       "      <td>0.287241</td>\n",
       "      <td>0.000000</td>\n",
       "      <td>0.049366</td>\n",
       "      <td>0.022472</td>\n",
       "      <td>...</td>\n",
       "      <td>0</td>\n",
       "      <td>0</td>\n",
       "      <td>0.527273</td>\n",
       "      <td>1729</td>\n",
       "      <td>0.00</td>\n",
       "      <td>0</td>\n",
       "      <td>0.166765</td>\n",
       "      <td>0.578947</td>\n",
       "      <td>1</td>\n",
       "      <td>1</td>\n",
       "    </tr>\n",
       "    <tr>\n",
       "      <th>70024144</th>\n",
       "      <td>Graduation</td>\n",
       "      <td>Married</td>\n",
       "      <td>0.641588</td>\n",
       "      <td>0.0</td>\n",
       "      <td>0.0</td>\n",
       "      <td>1.0</td>\n",
       "      <td>0.490982</td>\n",
       "      <td>0.113712</td>\n",
       "      <td>0.735824</td>\n",
       "      <td>0.117978</td>\n",
       "      <td>...</td>\n",
       "      <td>0</td>\n",
       "      <td>0</td>\n",
       "      <td>0.254545</td>\n",
       "      <td>1600</td>\n",
       "      <td>0.00</td>\n",
       "      <td>0</td>\n",
       "      <td>0.645180</td>\n",
       "      <td>0.710526</td>\n",
       "      <td>1</td>\n",
       "      <td>1</td>\n",
       "    </tr>\n",
       "    <tr>\n",
       "      <th>70017808</th>\n",
       "      <td>Master</td>\n",
       "      <td>Married</td>\n",
       "      <td>0.509964</td>\n",
       "      <td>0.0</td>\n",
       "      <td>0.5</td>\n",
       "      <td>1.0</td>\n",
       "      <td>0.248497</td>\n",
       "      <td>0.090301</td>\n",
       "      <td>0.126084</td>\n",
       "      <td>0.185393</td>\n",
       "      <td>...</td>\n",
       "      <td>0</td>\n",
       "      <td>0</td>\n",
       "      <td>0.363636</td>\n",
       "      <td>1545</td>\n",
       "      <td>0.00</td>\n",
       "      <td>0</td>\n",
       "      <td>0.240095</td>\n",
       "      <td>0.631579</td>\n",
       "      <td>1</td>\n",
       "      <td>1</td>\n",
       "    </tr>\n",
       "    <tr>\n",
       "      <th>70023072</th>\n",
       "      <td>PhD</td>\n",
       "      <td>Together</td>\n",
       "      <td>0.267290</td>\n",
       "      <td>0.5</td>\n",
       "      <td>0.5</td>\n",
       "      <td>1.0</td>\n",
       "      <td>0.006680</td>\n",
       "      <td>0.000000</td>\n",
       "      <td>0.003336</td>\n",
       "      <td>0.000000</td>\n",
       "      <td>...</td>\n",
       "      <td>0</td>\n",
       "      <td>0</td>\n",
       "      <td>0.527273</td>\n",
       "      <td>1353</td>\n",
       "      <td>0.00</td>\n",
       "      <td>0</td>\n",
       "      <td>0.003253</td>\n",
       "      <td>0.263158</td>\n",
       "      <td>1</td>\n",
       "      <td>3</td>\n",
       "    </tr>\n",
       "  </tbody>\n",
       "</table>\n",
       "<p>2494 rows × 32 columns</p>\n",
       "</div>"
      ],
      "text/plain": [
       "           Education Marital_Status    Income  Kidhome  Teenhome  Recency  \\\n",
       "Custid                                                                      \n",
       "70012576    2n Cycle         Single  0.652412      0.0       0.0      0.0   \n",
       "70034556       Basic       Together  0.402560      0.0       0.5      0.0   \n",
       "70021396  Graduation        Married  0.291219      1.0       0.0      0.0   \n",
       "70035464  Graduation        Married  0.342804      0.0       0.5      0.0   \n",
       "70008640      Master        Married  0.550433      0.0       0.0      0.0   \n",
       "...              ...            ...       ...      ...       ...      ...   \n",
       "70011384  Graduation       Together  0.642138      0.0       0.0      1.0   \n",
       "70034628  Graduation        Married  0.492810      0.5       0.5      1.0   \n",
       "70024144  Graduation        Married  0.641588      0.0       0.0      1.0   \n",
       "70017808      Master        Married  0.509964      0.0       0.5      1.0   \n",
       "70023072         PhD       Together  0.267290      0.5       0.5      1.0   \n",
       "\n",
       "          MntSneakers  MntTShirts  MntRackets  MntWatches  ...  Complain  \\\n",
       "Custid                                                     ...             \n",
       "70012576     0.126253    0.521739    0.379586    0.432584  ...         0   \n",
       "70034556     0.482298    0.096990    0.192128    0.050562  ...         0   \n",
       "70021396     0.013360    0.020067    0.008005    0.011236  ...         0   \n",
       "70035464     0.052104    0.000000    0.011341    0.000000  ...         0   \n",
       "70008640     0.224449    0.652174    0.411608    0.932584  ...         0   \n",
       "...               ...         ...         ...         ...  ...       ...   \n",
       "70011384     0.680695    0.381271    0.596398    0.488764  ...         0   \n",
       "70034628     0.287241    0.000000    0.049366    0.022472  ...         0   \n",
       "70024144     0.490982    0.113712    0.735824    0.117978  ...         0   \n",
       "70017808     0.248497    0.090301    0.126084    0.185393  ...         0   \n",
       "70023072     0.006680    0.000000    0.003336    0.000000  ...         0   \n",
       "\n",
       "          DepVar       Age  TimeAsCustomer  TotalCampaigns  PremBrandFan  \\\n",
       "Custid                                                                     \n",
       "70012576       0  0.527273            1079            0.00             0   \n",
       "70034556       0  0.636364            1723            0.25             0   \n",
       "70021396       0  0.381818            1308            0.00             0   \n",
       "70035464       0  0.672727            1228            0.00             0   \n",
       "70008640       0  0.400000            1170            0.00             0   \n",
       "...          ...       ...             ...             ...           ...   \n",
       "70011384       0  0.890909            1305            0.50             0   \n",
       "70034628       0  0.527273            1729            0.00             0   \n",
       "70024144       0  0.254545            1600            0.00             0   \n",
       "70017808       0  0.363636            1545            0.00             0   \n",
       "70023072       0  0.527273            1353            0.00             0   \n",
       "\n",
       "          TotalMnt  TotalPurchases  HighEducation  MaritalStatusLabel  \n",
       "Custid                                                                 \n",
       "70012576  0.486694        0.526316              1                   2  \n",
       "70034556  0.348906        0.526316              0                   3  \n",
       "70021396  0.015080        0.289474              1                   1  \n",
       "70035464  0.028977        0.315789              1                   1  \n",
       "70008640  0.408338        0.578947              1                   1  \n",
       "...            ...             ...            ...                 ...  \n",
       "70011384  0.709639        0.921053              1                   3  \n",
       "70034628  0.166765        0.578947              1                   1  \n",
       "70024144  0.645180        0.710526              1                   1  \n",
       "70017808  0.240095        0.631579              1                   1  \n",
       "70023072  0.003253        0.263158              1                   3  \n",
       "\n",
       "[2494 rows x 32 columns]"
      ]
     },
     "execution_count": 3,
     "metadata": {},
     "output_type": "execute_result"
    }
   ],
   "source": [
    "dataset"
   ]
  },
  {
   "cell_type": "markdown",
   "metadata": {},
   "source": [
    "## Split Data"
   ]
  },
  {
   "cell_type": "code",
   "execution_count": 4,
   "metadata": {},
   "outputs": [],
   "source": [
    "# Get the independent variables (data) and the target (target)\n",
    "\n",
    "# Remove categorical variables, since we already added in the first work its transformation into numerical groups\n",
    "data = dataset.drop([\"DepVar\", \"Education\", \"Marital_Status\"], axis=1)\n",
    "target = dataset[\"DepVar\"]"
   ]
  },
  {
   "cell_type": "code",
   "execution_count": 5,
   "metadata": {},
   "outputs": [],
   "source": [
    "# Data scaling\n",
    "robust = RobustScaler().fit(data)\n",
    "data = robust.transform(data)\n",
    "data=pd.DataFrame(data)"
   ]
  },
  {
   "cell_type": "code",
   "execution_count": 6,
   "metadata": {},
   "outputs": [],
   "source": [
    "#Split data into training and test 80/20 with shuffle and stratify\n",
    "X_train_val, X_test, y_train_val, y_test = train_test_split(data, \n",
    "                                                    target, \n",
    "                                                    test_size=0.2, \n",
    "                                                    random_state=15, \n",
    "                                                    shuffle=True, \n",
    "                                                    stratify=target\n",
    "                                                   )"
   ]
  },
  {
   "cell_type": "code",
   "execution_count": 7,
   "metadata": {},
   "outputs": [
    {
     "name": "stdout",
     "output_type": "stream",
     "text": [
      "X Train: (1995, 29) X Test: (499, 29) Target Train: (1995,) Target Test: (499,)\n"
     ]
    }
   ],
   "source": [
    "print(\"X Train:\",X_train_val.shape, \"X Test:\", X_test.shape, \"Target Train:\", y_train_val.shape, \"Target Test:\", y_test.shape)"
   ]
  },
  {
   "cell_type": "code",
   "execution_count": 8,
   "metadata": {},
   "outputs": [],
   "source": [
    "# split the dataset train into Train and Validation (75/25) with shuffle and stratify target\n",
    "X_train, X_val, y_train, y_val = train_test_split(X_train_val,\n",
    "                                                  y_train_val,\n",
    "                                                  test_size = 0.25,\n",
    "                                                  random_state = 15,\n",
    "                                                  shuffle=True,\n",
    "                                                  stratify=y_train_val\n",
    "                                                )"
   ]
  },
  {
   "cell_type": "code",
   "execution_count": 9,
   "metadata": {},
   "outputs": [
    {
     "name": "stdout",
     "output_type": "stream",
     "text": [
      "X Train: (1496, 29) X Validation: (499, 29) Target Train: (1496,) Target Validation: (499,)\n"
     ]
    }
   ],
   "source": [
    "print(\"X Train:\",X_train.shape, \"X Validation:\", X_val.shape, \"Target Train:\", y_train.shape, \"Target Validation:\", y_val.shape)"
   ]
  },
  {
   "cell_type": "code",
   "execution_count": 10,
   "metadata": {},
   "outputs": [
    {
     "name": "stdout",
     "output_type": "stream",
     "text": [
      "train:0.6% | validation:0.2% | test:0.2%\n"
     ]
    }
   ],
   "source": [
    "# check the proportion of data for each group\n",
    "print('train:{}% | validation:{}% | test:{}%'.format(round(len(y_train)/len(target),2),\n",
    "                                                     round(len(y_val)/len(target),2),\n",
    "                                                     round(len(y_test)/len(target),2)\n",
    "                                                    ))"
   ]
  },
  {
   "cell_type": "markdown",
   "metadata": {},
   "source": [
    "## K-Fold\n",
    "\n",
    "<p style=\"text-align: justify\">We will use the K-Fold technique to validate the models, within the training data (training + validation) in order to arrive at the model with the best results</p>"
   ]
  },
  {
   "cell_type": "code",
   "execution_count": 11,
   "metadata": {},
   "outputs": [],
   "source": [
    "# Declare Training functions for the various models\n",
    "\n",
    "# Logistic Regression\n",
    "def run_model_LR(X,y):\n",
    "    model = LogisticRegression().fit(X,y)\n",
    "    return model\n",
    "\n",
    "# Decision Tree\n",
    "def run_model_DT(X,y,max_depth):\n",
    "    model = DecisionTreeClassifier(max_depth = max_depth).fit(X,y)\n",
    "    return model\n",
    "\n",
    "# Support Vector Machine\n",
    "def run_model_SVM(X, y):\n",
    "    model = SVC(gamma='auto', probability=True).fit(X, y)\n",
    "    return model\n",
    "\n",
    "# random forest\n",
    "def run_model_RF(X, y):\n",
    "    model = RandomForestClassifier(n_estimators=45).fit(X, y)\n",
    "    return model\n",
    "\n"
   ]
  },
  {
   "cell_type": "code",
   "execution_count": 12,
   "metadata": {},
   "outputs": [],
   "source": [
    "# function that returns the method score\n",
    "def evaluate_model(X,y, model):\n",
    "    return model.score(X,y)\n"
   ]
  },
  {
   "cell_type": "code",
   "execution_count": 13,
   "metadata": {},
   "outputs": [],
   "source": [
    "# Functions to return the average score between training and validation for the various models \n",
    "# As parameters will be used in addition to the method, the dependent variable (target) and the independent variables\n",
    "\n",
    "# Logistic Regression (LR)\n",
    "def avg_score_LR(method,X,y):\n",
    "    score_train = []\n",
    "    score_test = []\n",
    "    for train_index, test_index in method.split(X):\n",
    "        X_train, X_test = X.iloc[train_index], X.iloc[test_index]\n",
    "        y_train, y_test = y.iloc[train_index], y.iloc[test_index]\n",
    "        model = run_model_LR(X_train, y_train)\n",
    "        value_train = evaluate_model(X_train, y_train, model)\n",
    "        value_test = evaluate_model(X_test,y_test, model)\n",
    "        score_train.append(value_train)\n",
    "        score_test.append(value_test)\n",
    "        \n",
    "    print('Train:', np.mean(score_train))\n",
    "    print('Validation:', np.mean(score_test))\n",
    "    return model\n",
    "\n",
    "#Decision Tree (DT)\n",
    "def avg_score_DT(method,X,y, max_depth):\n",
    "    score_train = []\n",
    "    score_test = []\n",
    "    for train_index, test_index in method.split(X):\n",
    "        X_train, X_test = X.iloc[train_index], X.iloc[test_index]\n",
    "        y_train, y_test = y.iloc[train_index], y.iloc[test_index]\n",
    "        model = run_model_DT(X_train, y_train, max_depth)\n",
    "        value_train = evaluate_model(X_train, y_train, model)\n",
    "        value_test = evaluate_model(X_test,y_test, model)\n",
    "        score_train.append(value_train)\n",
    "        score_test.append(value_test)\n",
    "\n",
    "    print('Train:', np.mean(score_train))\n",
    "    print('Validation:', np.mean(score_test))\n",
    "    return model, np.mean(score_train), np.mean(score_test)\n",
    "\n",
    "\n",
    "# Support Vector Machine (SVM)\n",
    "def avg_score_SVM(method,X,y):\n",
    "    score_train = []\n",
    "    score_test = []\n",
    "    for train_index, test_index in method.split(X):\n",
    "        X_train, X_test = X.iloc[train_index], X.iloc[test_index]\n",
    "        y_train, y_test = y.iloc[train_index], y.iloc[test_index]\n",
    "        model = run_model_SVM(X_train, y_train)\n",
    "        value_train = evaluate_model(X_train, y_train, model)\n",
    "        value_test = evaluate_model(X_test,y_test, model)\n",
    "        score_train.append(value_train)\n",
    "        score_test.append(value_test)\n",
    "        \n",
    "    print('Train:', np.mean(score_train))\n",
    "    print('Validation:', np.mean(score_test))\n",
    "    return model\n",
    "\n",
    "#Random Forest (RF)\n",
    "def avg_score_RF(method,X,y):\n",
    "    score_train = []\n",
    "    score_test = []\n",
    "    for train_index, test_index in method.split(X):\n",
    "        X_train, X_test = X.iloc[train_index], X.iloc[test_index]\n",
    "        y_train, y_test = y.iloc[train_index], y.iloc[test_index]\n",
    "        model = run_model_RF(X_train, y_train)\n",
    "        value_train = evaluate_model(X_train, y_train, model)\n",
    "        value_test = evaluate_model(X_test,y_test, model)\n",
    "        score_train.append(value_train)\n",
    "        score_test.append(value_test)\n",
    "        \n",
    "    print('Train:', np.mean(score_train))\n",
    "    print('Validation:', np.mean(score_test))\n",
    "    return model\n",
    "\n"
   ]
  },
  {
   "cell_type": "code",
   "execution_count": 14,
   "metadata": {},
   "outputs": [],
   "source": [
    "# function to show the results of the metrics for evaluation\n",
    "def metrics(y_train, pred_train , y_val, pred_val):\n",
    "    print('___________________________________________________________________________________________________________')\n",
    "    print('                                                     TRAIN                                                 ')\n",
    "    print('-----------------------------------------------------------------------------------------------------------')\n",
    "    print(classification_report(y_train, pred_train))\n",
    "    print(confusion_matrix(y_train, pred_train))\n",
    "\n",
    "\n",
    "    print('___________________________________________________________________________________________________________')\n",
    "    print('                                                VALIDATION                                                 ')\n",
    "    print('-----------------------------------------------------------------------------------------------------------')\n",
    "    print(classification_report(y_val, pred_val))\n",
    "    print(confusion_matrix(y_val, pred_val))"
   ]
  },
  {
   "cell_type": "markdown",
   "metadata": {},
   "source": [
    "### Evaluate Logistic Regression"
   ]
  },
  {
   "cell_type": "code",
   "execution_count": 15,
   "metadata": {},
   "outputs": [
    {
     "name": "stdout",
     "output_type": "stream",
     "text": [
      "Train: 0.8967115893647816\n",
      "Validation: 0.8945396972505405\n"
     ]
    }
   ],
   "source": [
    "#Define split number \n",
    "kf = KFold(n_splits=6)\n",
    "\n",
    "#Ver qual o score obtido para Linear Regression\n",
    "model = avg_score_LR(kf, data, target)"
   ]
  },
  {
   "cell_type": "markdown",
   "metadata": {},
   "source": [
    "__Nota__: Although this technique (KFold) can be efficient, we do not use it as is. We prefer to use the repeatedKFold method, which will allow us to repeat the KFold several times, where n splites are produced in each repetition"
   ]
  },
  {
   "cell_type": "code",
   "execution_count": 16,
   "metadata": {},
   "outputs": [
    {
     "name": "stdout",
     "output_type": "stream",
     "text": [
      "-------------- Logistic Regression -------------\n",
      "Train: 0.9043673189333845\n",
      "Validation: 0.8947230425055928\n",
      "----------------------------------------------\n"
     ]
    }
   ],
   "source": [
    "#K-Fold repeated\n",
    "rkf = RepeatedKFold(n_splits=10, n_repeats=10)\n",
    "\n",
    "# See which score is obtained when repeated\n",
    "\n",
    "#Ver qual o score obtido para Logistic Regression\n",
    "print('-------------- Logistic Regression -------------')\n",
    "model_LR = avg_score_LR(rkf, X_train, y_train)\n",
    "print('----------------------------------------------')\n"
   ]
  },
  {
   "cell_type": "markdown",
   "metadata": {},
   "source": [
    "__Obs__: Our Data is probably unbalanced, so we will use other more reliable metrics such as the F1-score, to better access the quality of the model."
   ]
  },
  {
   "cell_type": "markdown",
   "metadata": {},
   "source": [
    "#### Model Evaluation (classification)"
   ]
  },
  {
   "cell_type": "code",
   "execution_count": 17,
   "metadata": {},
   "outputs": [],
   "source": [
    "# assign the predictions to y_pred, using the method predict()\n",
    "y_pred = model_LR.predict(X_val)"
   ]
  },
  {
   "cell_type": "markdown",
   "metadata": {},
   "source": [
    "<table border=\"1\">\n",
    " <tr>\n",
    "    <td><b>Confusion Matrix:</b><br>\n",
    "[ [ TN  FP  ] <br>\n",
    "    [ FN  TP ] ]</td>\n",
    "    <td><b>$$accuracy$$</b><br>$$ \\frac{TP + TN}{TP + FN + TN + FP}     $$</td>\n",
    "    <td><b>$$precision$$</b><br>$$ \\frac{TP}{TP + FP}     $$</td>\n",
    "    <td><b>$$recall$$</b><br>$$ = \\frac{TP}{TP + FN}     $$</td>\n",
    "    <td><b>$$F1-score$$</b><br>$$ \\frac{2 \\times precision \\times recall}{precision+recall}     $$</td>\n",
    " </tr>\n",
    "</table>"
   ]
  },
  {
   "cell_type": "code",
   "execution_count": 18,
   "metadata": {},
   "outputs": [
    {
     "name": "stdout",
     "output_type": "stream",
     "text": [
      "Confusion Matrix:\n",
      "[[422  12]\n",
      " [ 47  18]]\n",
      "Accurancy Score: 0.8817635270541082\n",
      "Precision: 0.6\n",
      "Recall: 0.27692307692307694\n",
      "F1 score: 0.37894736842105264\n"
     ]
    }
   ],
   "source": [
    "print(\"Confusion Matrix:\")\n",
    "print(confusion_matrix(y_val, y_pred))\n",
    "print(\"Accurancy Score:\", accuracy_score(y_val, y_pred))\n",
    "print(\"Precision:\", precision_score(y_val, y_pred))\n",
    "print(\"Recall:\", recall_score(y_val, y_pred))\n",
    "print(\"F1 score:\", f1_score(y_val, y_pred))"
   ]
  },
  {
   "cell_type": "markdown",
   "metadata": {},
   "source": [
    "__Obs__: From the confusion matrix, we can see that our data is unbalanced for the negative, it confirms what we have been told about the rate of a customer accepting the campaign (12,5%)."
   ]
  },
  {
   "cell_type": "markdown",
   "metadata": {},
   "source": [
    "####  Resume"
   ]
  },
  {
   "cell_type": "code",
   "execution_count": 19,
   "metadata": {
    "scrolled": false
   },
   "outputs": [
    {
     "name": "stdout",
     "output_type": "stream",
     "text": [
      "___________________________________________________________________________________________________________\n",
      "                                                     TRAIN                                                 \n",
      "-----------------------------------------------------------------------------------------------------------\n",
      "              precision    recall  f1-score   support\n",
      "\n",
      "           0       0.92      0.97      0.95      1303\n",
      "           1       0.70      0.44      0.54       193\n",
      "\n",
      "    accuracy                           0.90      1496\n",
      "   macro avg       0.81      0.70      0.74      1496\n",
      "weighted avg       0.89      0.90      0.89      1496\n",
      "\n",
      "[[1267   36]\n",
      " [ 109   84]]\n",
      "___________________________________________________________________________________________________________\n",
      "                                                VALIDATION                                                 \n",
      "-----------------------------------------------------------------------------------------------------------\n",
      "              precision    recall  f1-score   support\n",
      "\n",
      "           0       0.90      0.97      0.93       434\n",
      "           1       0.60      0.28      0.38        65\n",
      "\n",
      "    accuracy                           0.88       499\n",
      "   macro avg       0.75      0.62      0.66       499\n",
      "weighted avg       0.86      0.88      0.86       499\n",
      "\n",
      "[[422  12]\n",
      " [ 47  18]]\n"
     ]
    }
   ],
   "source": [
    "# Logistic Regression Metrics\n",
    "# compare train predict vs validation\n",
    "labels_train = model_LR.predict(X_train)\n",
    "labels_val = model_LR.predict(X_val)\n",
    "metrics(y_train = y_train, pred_train = labels_train, y_val = y_val, pred_val = labels_val)"
   ]
  },
  {
   "cell_type": "markdown",
   "metadata": {},
   "source": [
    "__Conclusion__: we obtained with Logistic Regression a very good f1-score in the case of 0 (not buying) above 0.90 (for training and validation), but as for 1 (buying) it is far below expectations, slightly around 0.40 (for training and validation)"
   ]
  },
  {
   "cell_type": "markdown",
   "metadata": {},
   "source": [
    "### Evaluate Models"
   ]
  },
  {
   "cell_type": "code",
   "execution_count": 20,
   "metadata": {},
   "outputs": [],
   "source": [
    "# function to return the average score value for a given model\n",
    "def avg_score(model):\n",
    "    # apply kfold\n",
    "    kf = KFold(n_splits=10)\n",
    "    # create lists to store the results from the different models \n",
    "    score_train = []\n",
    "    score_test = []\n",
    "    timer = []\n",
    "    for train_index, test_index in kf.split(data):\n",
    "        # get the indexes of the observations assigned for each partition\n",
    "        X_train, X_test = data.iloc[train_index], data.iloc[test_index]\n",
    "        y_train, y_test = target.iloc[train_index], target.iloc[test_index]\n",
    "        # start counting time\n",
    "        begin = time.perf_counter()\n",
    "        # fit the model to the data\n",
    "        model.fit(X_train, y_train)\n",
    "        # finish counting time\n",
    "        end = time.perf_counter()\n",
    "        # check the mean accuracy for the train\n",
    "        value_train = model.score(X_train, y_train)\n",
    "        # check the mean accuracy for the test\n",
    "        value_test = model.score(X_test,y_test)\n",
    "        # append the accuracies, the time and the number of iterations in the corresponding list\n",
    "        score_train.append(value_train)\n",
    "        score_test.append(value_test)\n",
    "        timer.append(end-begin)\n",
    "    # calculate the average and the std for each measure (accuracy, time and number of iterations)\n",
    "    avg_time = round(np.mean(timer),3)\n",
    "    avg_train = round(np.mean(score_train),3)\n",
    "    avg_test = round(np.mean(score_test),3)\n",
    "    std_time = round(np.std(timer),2)\n",
    "    std_train = round(np.std(score_train),2)\n",
    "    std_test = round(np.std(score_test),2)\n",
    "    \n",
    "    return str(avg_time) + '+/-' + str(std_time), str(avg_train) + '+/-' + str(std_train),\\\n",
    "str(avg_test) + '+/-' + str(std_test)"
   ]
  },
  {
   "cell_type": "code",
   "execution_count": 21,
   "metadata": {},
   "outputs": [],
   "source": [
    "# function to show on a dataframe the comparison of the models\n",
    "def show_results(df, *args):\n",
    "    \"\"\"\n",
    "    Receive an empty dataframe and the different models and call the function avg_score\n",
    "    \"\"\"\n",
    "    count = 0\n",
    "    # for each model passed as argument\n",
    "    for arg in args:\n",
    "        # obtain the results provided by avg_score\n",
    "        time, avg_train, avg_test = avg_score(arg)\n",
    "        # store the results in the right row\n",
    "        df.iloc[count] = time, avg_train, avg_test\n",
    "        count+=1\n",
    "    return df"
   ]
  },
  {
   "cell_type": "code",
   "execution_count": 22,
   "metadata": {},
   "outputs": [],
   "source": [
    "# declare K-Fold repeated\n",
    "rkf = RepeatedKFold(n_splits=10, n_repeats=10)"
   ]
  },
  {
   "cell_type": "markdown",
   "metadata": {},
   "source": [
    "#### Finding the best depth for Decision Trees"
   ]
  },
  {
   "cell_type": "code",
   "execution_count": 23,
   "metadata": {},
   "outputs": [
    {
     "name": "stdout",
     "output_type": "stream",
     "text": [
      "-------------- Decision Tree -----------------\n",
      "------------ DT max depth= 1 ----------------\n",
      "Train: 0.8709892436110845\n",
      "Validation: 0.8709843400447427\n",
      "------------ DT max depth= 2 ----------------\n",
      "Train: 0.8842913480068526\n",
      "Validation: 0.8741955257270692\n",
      "------------ DT max depth= 3 ----------------\n",
      "Train: 0.8921717845280527\n",
      "Validation: 0.8760035794183445\n",
      "------------ DT max depth= 4 ----------------\n",
      "Train: 0.9055335063003913\n",
      "Validation: 0.8698501118568233\n",
      "------------ DT max depth= 5 ----------------\n",
      "Train: 0.9249550539363794\n",
      "Validation: 0.870565548098434\n",
      "------------ DT max depth= 6 ----------------\n",
      "Train: 0.9435529673006218\n",
      "Validation: 0.8677673378076064\n",
      "------------ DT max depth= 7 ----------------\n",
      "Train: 0.9627152463622314\n",
      "Validation: 0.8582192393736018\n",
      "------------ DT max depth= 8 ----------------\n",
      "Train: 0.976084871890757\n",
      "Validation: 0.855089485458613\n",
      "------------ DT max depth= 9 ----------------\n",
      "Train: 0.9850861084728487\n",
      "Validation: 0.8527364653243846\n",
      "------------ DT max depth= 10 ----------------\n",
      "Train: 0.9922609486051773\n",
      "Validation: 0.8517991051454139\n",
      "----------------------------------------------\n"
     ]
    },
    {
     "data": {
      "text/plain": [
       "<matplotlib.legend.Legend at 0x1a6172eb9c8>"
      ]
     },
     "execution_count": 23,
     "metadata": {},
     "output_type": "execute_result"
    },
    {
     "data": {
      "image/png": "[encoded data removed]",
      "text/plain": [
       "<Figure size 432x288 with 1 Axes>"
      ]
     },
     "metadata": {
      "needs_background": "light"
     },
     "output_type": "display_data"
    }
   ],
   "source": [
    "# Using Repeat KFold we will evaluate the best depth we should choose to stop at the decision tree (using the score)\n",
    "# The technique chosen to avoid overfitting in TDs was the depth in the tree\n",
    "\n",
    "x=[]\n",
    "y_t=[]\n",
    "y_v=[]\n",
    "\n",
    "# validate the best depth to give to the Decision Tree \n",
    "print('-------------- Decision Tree -----------------')\n",
    "for i in range(1,11):\n",
    "    print('------------ DT max depth=', i, '----------------')\n",
    "    max_depth = i\n",
    "    model_DT, score_train, score_val = avg_score_DT(rkf, X_train, y_train, max_depth)\n",
    "    x.append(i)\n",
    "    y_t.append(score_train)\n",
    "    y_v.append(score_val)\n",
    "print('----------------------------------------------')\n",
    "\n",
    "#plot results for better viewing\n",
    "plt.plot(x, y_t, color='blue', label ='Train')\n",
    "plt.plot(x, y_v, color='green', label = 'Validation')\n",
    "plt.legend()"
   ]
  },
  {
   "cell_type": "markdown",
   "metadata": {},
   "source": [
    "__Conclusion__: as it turns out, depth 2 is ideal for gaining the score in both training data and validation data (to reduce overfitting to the maximum)"
   ]
  },
  {
   "cell_type": "code",
   "execution_count": 24,
   "metadata": {},
   "outputs": [],
   "source": [
    "#set max_depth\n",
    "max_depth =2"
   ]
  },
  {
   "cell_type": "markdown",
   "metadata": {},
   "source": [
    "__Obs__: Since we know that the target is an unbalanced variable, accurancy is not the best way to measure the quality of the model, so we will use other metrics."
   ]
  },
  {
   "cell_type": "markdown",
   "metadata": {},
   "source": [
    "#### Evaluate Metrics Decision Tree (DT)"
   ]
  },
  {
   "cell_type": "code",
   "execution_count": 25,
   "metadata": {},
   "outputs": [
    {
     "name": "stdout",
     "output_type": "stream",
     "text": [
      "___________________________________________________________________________________________________________\n",
      "__                                Comparative Gini usage (max depth = 2)                                 __\n",
      "___________________________________________________________________________________________________________\n",
      "                                                     TRAIN                                                 \n",
      "-----------------------------------------------------------------------------------------------------------\n",
      "              precision    recall  f1-score   support\n",
      "\n",
      "           0       0.92      0.96      0.94      1303\n",
      "           1       0.59      0.41      0.48       193\n",
      "\n",
      "    accuracy                           0.89      1496\n",
      "   macro avg       0.75      0.68      0.71      1496\n",
      "weighted avg       0.87      0.89      0.88      1496\n",
      "\n",
      "[[1247   56]\n",
      " [ 114   79]]\n",
      "___________________________________________________________________________________________________________\n",
      "                                                VALIDATION                                                 \n",
      "-----------------------------------------------------------------------------------------------------------\n",
      "              precision    recall  f1-score   support\n",
      "\n",
      "           0       0.90      0.97      0.94       434\n",
      "           1       0.61      0.29      0.40        65\n",
      "\n",
      "    accuracy                           0.88       499\n",
      "   macro avg       0.76      0.63      0.67       499\n",
      "weighted avg       0.86      0.88      0.87       499\n",
      "\n",
      "[[422  12]\n",
      " [ 46  19]]\n"
     ]
    }
   ],
   "source": [
    "# Compare training predict versus validation\n",
    "\n",
    "print('___________________________________________________________________________________________________________')\n",
    "print('__                                Comparative Gini usage (max depth = 2)                                 __')\n",
    "model_DT = DecisionTreeClassifier(max_depth = max_depth).fit(X_train, y_train)\n",
    "labels_train = model_DT.predict(X_train)\n",
    "labels_val = model_DT.predict(X_val)\n",
    "metrics(y_train = y_train, pred_train = labels_train, y_val = y_val, pred_val = labels_val)"
   ]
  },
  {
   "cell_type": "markdown",
   "metadata": {},
   "source": [
    "__Conclusion__: This model obtained slightly better results when evaluating the result of the validation compared to the Logistic Regression."
   ]
  },
  {
   "cell_type": "code",
   "execution_count": 26,
   "metadata": {},
   "outputs": [],
   "source": [
    "# Compare training and validation scores taking into account some parameter variations\n",
    "dt_gini = DecisionTreeClassifier(max_depth = max_depth)\n",
    "\n",
    "# change the criterion to Entropy\n",
    "dt_entropy = DecisionTreeClassifier(criterion = 'entropy', max_depth = max_depth)\n",
    "\n",
    "# see if the parameter class_weight = balanced brings better results\n",
    "dt_balanced = DecisionTreeClassifier(class_weight = 'balanced', max_depth = max_depth)"
   ]
  },
  {
   "cell_type": "code",
   "execution_count": 27,
   "metadata": {},
   "outputs": [
    {
     "data": {
      "text/html": [
       "<div>\n",
       "<style scoped>\n",
       "    .dataframe tbody tr th:only-of-type {\n",
       "        vertical-align: middle;\n",
       "    }\n",
       "\n",
       "    .dataframe tbody tr th {\n",
       "        vertical-align: top;\n",
       "    }\n",
       "\n",
       "    .dataframe thead th {\n",
       "        text-align: right;\n",
       "    }\n",
       "</style>\n",
       "<table border=\"1\" class=\"dataframe\">\n",
       "  <thead>\n",
       "    <tr style=\"text-align: right;\">\n",
       "      <th></th>\n",
       "      <th>Time</th>\n",
       "      <th>Train</th>\n",
       "      <th>Test</th>\n",
       "    </tr>\n",
       "  </thead>\n",
       "  <tbody>\n",
       "    <tr>\n",
       "      <th>Gini</th>\n",
       "      <td>0.005+/-0.0</td>\n",
       "      <td>0.882+/-0.01</td>\n",
       "      <td>0.877+/-0.03</td>\n",
       "    </tr>\n",
       "    <tr>\n",
       "      <th>Entropy</th>\n",
       "      <td>0.006+/-0.0</td>\n",
       "      <td>0.881+/-0.0</td>\n",
       "      <td>0.877+/-0.03</td>\n",
       "    </tr>\n",
       "    <tr>\n",
       "      <th>Gini Balanced</th>\n",
       "      <td>0.005+/-0.0</td>\n",
       "      <td>0.59+/-0.01</td>\n",
       "      <td>0.586+/-0.02</td>\n",
       "    </tr>\n",
       "  </tbody>\n",
       "</table>\n",
       "</div>"
      ],
      "text/plain": [
       "                      Time         Train          Test\n",
       "Gini           0.005+/-0.0  0.882+/-0.01  0.877+/-0.03\n",
       "Entropy        0.006+/-0.0   0.881+/-0.0  0.877+/-0.03\n",
       "Gini Balanced  0.005+/-0.0   0.59+/-0.01  0.586+/-0.02"
      ]
     },
     "execution_count": 27,
     "metadata": {},
     "output_type": "execute_result"
    }
   ],
   "source": [
    "df = pd.DataFrame(columns = ['Time','Train','Test'], index = ['Gini','Entropy', 'Gini Balanced'])\n",
    "show_results(df,dt_gini, dt_entropy ,dt_balanced)"
   ]
  },
  {
   "cell_type": "markdown",
   "metadata": {},
   "source": [
    "__Conclusion__: Both Gini and Entropy have identical scores. We chose to use Gini as we had already validated it above. Balancing did not bring added value, quite the contrary."
   ]
  },
  {
   "cell_type": "markdown",
   "metadata": {},
   "source": [
    "#### Evaluate Metrics Support Vector Machine (SVM)"
   ]
  },
  {
   "cell_type": "code",
   "execution_count": 28,
   "metadata": {},
   "outputs": [
    {
     "name": "stdout",
     "output_type": "stream",
     "text": [
      "___________________________________________________________________________________________________________\n",
      "__                                          Comparative Scores                                           __\n",
      "Train: 0.894347871170429\n",
      "Validation: 0.8781463087248322\n",
      "___________________________________________________________________________________________________________\n",
      "                                                     TRAIN                                                 \n",
      "-----------------------------------------------------------------------------------------------------------\n",
      "              precision    recall  f1-score   support\n",
      "\n",
      "           0       0.90      1.00      0.94      1303\n",
      "           1       0.98      0.21      0.35       193\n",
      "\n",
      "    accuracy                           0.90      1496\n",
      "   macro avg       0.94      0.61      0.65      1496\n",
      "weighted avg       0.91      0.90      0.87      1496\n",
      "\n",
      "[[1302    1]\n",
      " [ 152   41]]\n",
      "___________________________________________________________________________________________________________\n",
      "                                                VALIDATION                                                 \n",
      "-----------------------------------------------------------------------------------------------------------\n",
      "              precision    recall  f1-score   support\n",
      "\n",
      "           0       0.88      1.00      0.94       434\n",
      "           1       0.88      0.11      0.19        65\n",
      "\n",
      "    accuracy                           0.88       499\n",
      "   macro avg       0.88      0.55      0.56       499\n",
      "weighted avg       0.88      0.88      0.84       499\n",
      "\n",
      "[[433   1]\n",
      " [ 58   7]]\n"
     ]
    }
   ],
   "source": [
    "# Compare training predict versus validation\n",
    "\n",
    "print('___________________________________________________________________________________________________________')\n",
    "print('__                                          Comparative Scores                                           __')\n",
    "model_SVM = avg_score_SVM(rkf, X_train, y_train)\n",
    "labels_train = model_SVM.predict(X_train)\n",
    "labels_val = model_SVM.predict(X_val)\n",
    "metrics(y_train = y_train, pred_train = labels_train, y_val = y_val, pred_val = labels_val)"
   ]
  },
  {
   "cell_type": "markdown",
   "metadata": {},
   "source": [
    "__Conclusion__: In this case the results were much worse, compared to the 2 previous models."
   ]
  },
  {
   "cell_type": "markdown",
   "metadata": {},
   "source": [
    "### Evaluate Metrics Random Forest (RF)"
   ]
  },
  {
   "cell_type": "code",
   "execution_count": 29,
   "metadata": {},
   "outputs": [],
   "source": [
    "# Compare training and validation scores taking into account some parameter variations\n",
    "dt_gini = RandomForestClassifier(n_estimators=45)\n",
    "\n",
    "# change the criterion to Entropy\n",
    "dt_entropy = RandomForestClassifier(criterion = 'entropy', n_estimators=45)\n",
    "\n",
    "# see if the parameter class_weight = balanced brings better results\n",
    "dt_balanced = RandomForestClassifier(class_weight = 'balanced', n_estimators=45)"
   ]
  },
  {
   "cell_type": "code",
   "execution_count": 30,
   "metadata": {},
   "outputs": [
    {
     "data": {
      "text/html": [
       "<div>\n",
       "<style scoped>\n",
       "    .dataframe tbody tr th:only-of-type {\n",
       "        vertical-align: middle;\n",
       "    }\n",
       "\n",
       "    .dataframe tbody tr th {\n",
       "        vertical-align: top;\n",
       "    }\n",
       "\n",
       "    .dataframe thead th {\n",
       "        text-align: right;\n",
       "    }\n",
       "</style>\n",
       "<table border=\"1\" class=\"dataframe\">\n",
       "  <thead>\n",
       "    <tr style=\"text-align: right;\">\n",
       "      <th></th>\n",
       "      <th>Time</th>\n",
       "      <th>Train</th>\n",
       "      <th>Test</th>\n",
       "    </tr>\n",
       "  </thead>\n",
       "  <tbody>\n",
       "    <tr>\n",
       "      <th>Gini</th>\n",
       "      <td>0.143+/-0.01</td>\n",
       "      <td>1.0+/-0.0</td>\n",
       "      <td>0.894+/-0.03</td>\n",
       "    </tr>\n",
       "    <tr>\n",
       "      <th>Entropy</th>\n",
       "      <td>0.164+/-0.0</td>\n",
       "      <td>1.0+/-0.0</td>\n",
       "      <td>0.898+/-0.03</td>\n",
       "    </tr>\n",
       "    <tr>\n",
       "      <th>Gini Balanced</th>\n",
       "      <td>0.136+/-0.0</td>\n",
       "      <td>1.0+/-0.0</td>\n",
       "      <td>0.888+/-0.03</td>\n",
       "    </tr>\n",
       "  </tbody>\n",
       "</table>\n",
       "</div>"
      ],
      "text/plain": [
       "                       Time      Train          Test\n",
       "Gini           0.143+/-0.01  1.0+/-0.0  0.894+/-0.03\n",
       "Entropy         0.164+/-0.0  1.0+/-0.0  0.898+/-0.03\n",
       "Gini Balanced   0.136+/-0.0  1.0+/-0.0  0.888+/-0.03"
      ]
     },
     "execution_count": 30,
     "metadata": {},
     "output_type": "execute_result"
    }
   ],
   "source": [
    "df = pd.DataFrame(columns = ['Time','Train','Test'], index = ['Gini','Entropy', 'Gini Balanced'])\n",
    "show_results(df,dt_gini, dt_entropy, dt_balanced)"
   ]
  },
  {
   "cell_type": "markdown",
   "metadata": {},
   "source": [
    "__Conclusion__: We chose to use Gini for the validation of the other metrics, as it presented the best result"
   ]
  },
  {
   "cell_type": "code",
   "execution_count": 31,
   "metadata": {},
   "outputs": [
    {
     "name": "stdout",
     "output_type": "stream",
     "text": [
      "___________________________________________________________________________________________________________\n",
      "__                                          Comparative Scores                                           __\n",
      "Train: 0.9997920589588222\n",
      "Validation: 0.895254586129754\n",
      "___________________________________________________________________________________________________________\n",
      "                                                     TRAIN                                                 \n",
      "-----------------------------------------------------------------------------------------------------------\n",
      "              precision    recall  f1-score   support\n",
      "\n",
      "           0       0.99      1.00      1.00      1303\n",
      "           1       0.98      0.95      0.97       193\n",
      "\n",
      "    accuracy                           0.99      1496\n",
      "   macro avg       0.99      0.97      0.98      1496\n",
      "weighted avg       0.99      0.99      0.99      1496\n",
      "\n",
      "[[1300    3]\n",
      " [  10  183]]\n",
      "___________________________________________________________________________________________________________\n",
      "                                                VALIDATION                                                 \n",
      "-----------------------------------------------------------------------------------------------------------\n",
      "              precision    recall  f1-score   support\n",
      "\n",
      "           0       0.91      0.98      0.94       434\n",
      "           1       0.72      0.35      0.47        65\n",
      "\n",
      "    accuracy                           0.90       499\n",
      "   macro avg       0.81      0.67      0.71       499\n",
      "weighted avg       0.89      0.90      0.88       499\n",
      "\n",
      "[[425   9]\n",
      " [ 42  23]]\n"
     ]
    }
   ],
   "source": [
    "#Compare training predict versus validation\n",
    "\n",
    "print('___________________________________________________________________________________________________________')\n",
    "print('__                                          Comparative Scores                                           __')\n",
    "model_RF = avg_score_RF(rkf, X_train, y_train)\n",
    "labels_train = model_RF.predict(X_train)\n",
    "labels_val = model_RF.predict(X_val)\n",
    "metrics(y_train = y_train, pred_train = labels_train, y_val = y_val, pred_val = labels_val)"
   ]
  },
  {
   "cell_type": "markdown",
   "metadata": {},
   "source": [
    "__Conclusion__: F1 score of accepting the campaign has similar results with the LR and DT"
   ]
  },
  {
   "cell_type": "markdown",
   "metadata": {},
   "source": [
    "#### Neural Network"
   ]
  },
  {
   "cell_type": "code",
   "execution_count": 32,
   "metadata": {},
   "outputs": [],
   "source": [
    "# Defining the model\n",
    "model_NN = MLPClassifier()"
   ]
  },
  {
   "cell_type": "code",
   "execution_count": 33,
   "metadata": {},
   "outputs": [
    {
     "data": {
      "text/html": [
       "<div>\n",
       "<style scoped>\n",
       "    .dataframe tbody tr th:only-of-type {\n",
       "        vertical-align: middle;\n",
       "    }\n",
       "\n",
       "    .dataframe tbody tr th {\n",
       "        vertical-align: top;\n",
       "    }\n",
       "\n",
       "    .dataframe thead th {\n",
       "        text-align: right;\n",
       "    }\n",
       "</style>\n",
       "<table border=\"1\" class=\"dataframe\">\n",
       "  <thead>\n",
       "    <tr style=\"text-align: right;\">\n",
       "      <th></th>\n",
       "      <th>Time</th>\n",
       "      <th>Train</th>\n",
       "      <th>Test</th>\n",
       "    </tr>\n",
       "  </thead>\n",
       "  <tbody>\n",
       "    <tr>\n",
       "      <th>Standard</th>\n",
       "      <td>3.246+/-0.07</td>\n",
       "      <td>0.961+/-0.0</td>\n",
       "      <td>0.902+/-0.02</td>\n",
       "    </tr>\n",
       "  </tbody>\n",
       "</table>\n",
       "</div>"
      ],
      "text/plain": [
       "                  Time        Train          Test\n",
       "Standard  3.246+/-0.07  0.961+/-0.0  0.902+/-0.02"
      ]
     },
     "execution_count": 33,
     "metadata": {},
     "output_type": "execute_result"
    }
   ],
   "source": [
    "df = pd.DataFrame(columns = ['Time','Train','Test'], index = ['Standard'])\n",
    "show_results(df,model_NN)"
   ]
  },
  {
   "cell_type": "code",
   "execution_count": 34,
   "metadata": {},
   "outputs": [],
   "source": [
    "# Set some paramteres to train\n",
    "parameter_space = {\n",
    "    'hidden_layer_sizes': [(50,50,50),(100,)],\n",
    "    'activation': ['tanh', 'relu'],\n",
    "    'solver': ['lbfgs', 'adam'],\n",
    "    'learning_rate_init': list(np.linspace(0.00001,0.1,5)),\n",
    "    'learning_rate': ['constant','adaptive']\n",
    "}"
   ]
  },
  {
   "cell_type": "code",
   "execution_count": 35,
   "metadata": {},
   "outputs": [],
   "source": [
    "clf = GridSearchCV(model_NN, parameter_space)"
   ]
  },
  {
   "cell_type": "code",
   "execution_count": 36,
   "metadata": {},
   "outputs": [
    {
     "data": {
      "text/plain": [
       "GridSearchCV(estimator=MLPClassifier(),\n",
       "             param_grid={'activation': ['tanh', 'relu'],\n",
       "                         'hidden_layer_sizes': [(50, 50, 50), (100,)],\n",
       "                         'learning_rate': ['constant', 'adaptive'],\n",
       "                         'learning_rate_init': [1e-05, 0.025007500000000002,\n",
       "                                                0.05000500000000001, 0.0750025,\n",
       "                                                0.1],\n",
       "                         'solver': ['lbfgs', 'adam']})"
      ]
     },
     "execution_count": 36,
     "metadata": {},
     "output_type": "execute_result"
    }
   ],
   "source": [
    "clf.fit(X_train, y_train)"
   ]
  },
  {
   "cell_type": "code",
   "execution_count": 37,
   "metadata": {
    "scrolled": true
   },
   "outputs": [
    {
     "name": "stdout",
     "output_type": "stream",
     "text": [
      "------------------------------------------------------------------------------------------------------------------------\n",
      "Best parameters found:\n",
      " {'activation': 'tanh', 'hidden_layer_sizes': (100,), 'learning_rate': 'adaptive', 'learning_rate_init': 0.05000500000000001, 'solver': 'adam'}\n",
      "------------------------------------------------------------------------------------------------------------------------\n",
      "0.866 (+/-0.017) for {'activation': 'tanh', 'hidden_layer_sizes': (50, 50, 50), 'learning_rate': 'constant', 'learning_rate_init': 1e-05, 'solver': 'lbfgs'}\n",
      "0.870 (+/-0.003) for {'activation': 'tanh', 'hidden_layer_sizes': (50, 50, 50), 'learning_rate': 'constant', 'learning_rate_init': 1e-05, 'solver': 'adam'}\n",
      "0.878 (+/-0.016) for {'activation': 'tanh', 'hidden_layer_sizes': (50, 50, 50), 'learning_rate': 'constant', 'learning_rate_init': 0.025007500000000002, 'solver': 'lbfgs'}\n",
      "0.888 (+/-0.011) for {'activation': 'tanh', 'hidden_layer_sizes': (50, 50, 50), 'learning_rate': 'constant', 'learning_rate_init': 0.025007500000000002, 'solver': 'adam'}\n",
      "0.886 (+/-0.021) for {'activation': 'tanh', 'hidden_layer_sizes': (50, 50, 50), 'learning_rate': 'constant', 'learning_rate_init': 0.05000500000000001, 'solver': 'lbfgs'}\n",
      "0.888 (+/-0.012) for {'activation': 'tanh', 'hidden_layer_sizes': (50, 50, 50), 'learning_rate': 'constant', 'learning_rate_init': 0.05000500000000001, 'solver': 'adam'}\n",
      "0.874 (+/-0.009) for {'activation': 'tanh', 'hidden_layer_sizes': (50, 50, 50), 'learning_rate': 'constant', 'learning_rate_init': 0.0750025, 'solver': 'lbfgs'}\n",
      "0.887 (+/-0.008) for {'activation': 'tanh', 'hidden_layer_sizes': (50, 50, 50), 'learning_rate': 'constant', 'learning_rate_init': 0.0750025, 'solver': 'adam'}\n",
      "0.887 (+/-0.017) for {'activation': 'tanh', 'hidden_layer_sizes': (50, 50, 50), 'learning_rate': 'constant', 'learning_rate_init': 0.1, 'solver': 'lbfgs'}\n",
      "0.870 (+/-0.029) for {'activation': 'tanh', 'hidden_layer_sizes': (50, 50, 50), 'learning_rate': 'constant', 'learning_rate_init': 0.1, 'solver': 'adam'}\n",
      "0.882 (+/-0.008) for {'activation': 'tanh', 'hidden_layer_sizes': (50, 50, 50), 'learning_rate': 'adaptive', 'learning_rate_init': 1e-05, 'solver': 'lbfgs'}\n",
      "0.868 (+/-0.008) for {'activation': 'tanh', 'hidden_layer_sizes': (50, 50, 50), 'learning_rate': 'adaptive', 'learning_rate_init': 1e-05, 'solver': 'adam'}\n",
      "0.880 (+/-0.019) for {'activation': 'tanh', 'hidden_layer_sizes': (50, 50, 50), 'learning_rate': 'adaptive', 'learning_rate_init': 0.025007500000000002, 'solver': 'lbfgs'}\n",
      "0.873 (+/-0.029) for {'activation': 'tanh', 'hidden_layer_sizes': (50, 50, 50), 'learning_rate': 'adaptive', 'learning_rate_init': 0.025007500000000002, 'solver': 'adam'}\n",
      "0.894 (+/-0.013) for {'activation': 'tanh', 'hidden_layer_sizes': (50, 50, 50), 'learning_rate': 'adaptive', 'learning_rate_init': 0.05000500000000001, 'solver': 'lbfgs'}\n",
      "0.876 (+/-0.013) for {'activation': 'tanh', 'hidden_layer_sizes': (50, 50, 50), 'learning_rate': 'adaptive', 'learning_rate_init': 0.05000500000000001, 'solver': 'adam'}\n",
      "0.880 (+/-0.018) for {'activation': 'tanh', 'hidden_layer_sizes': (50, 50, 50), 'learning_rate': 'adaptive', 'learning_rate_init': 0.0750025, 'solver': 'lbfgs'}\n",
      "0.882 (+/-0.020) for {'activation': 'tanh', 'hidden_layer_sizes': (50, 50, 50), 'learning_rate': 'adaptive', 'learning_rate_init': 0.0750025, 'solver': 'adam'}\n",
      "0.875 (+/-0.012) for {'activation': 'tanh', 'hidden_layer_sizes': (50, 50, 50), 'learning_rate': 'adaptive', 'learning_rate_init': 0.1, 'solver': 'lbfgs'}\n",
      "0.866 (+/-0.015) for {'activation': 'tanh', 'hidden_layer_sizes': (50, 50, 50), 'learning_rate': 'adaptive', 'learning_rate_init': 0.1, 'solver': 'adam'}\n",
      "0.898 (+/-0.012) for {'activation': 'tanh', 'hidden_layer_sizes': (100,), 'learning_rate': 'constant', 'learning_rate_init': 1e-05, 'solver': 'lbfgs'}\n",
      "0.853 (+/-0.011) for {'activation': 'tanh', 'hidden_layer_sizes': (100,), 'learning_rate': 'constant', 'learning_rate_init': 1e-05, 'solver': 'adam'}\n",
      "0.886 (+/-0.017) for {'activation': 'tanh', 'hidden_layer_sizes': (100,), 'learning_rate': 'constant', 'learning_rate_init': 0.025007500000000002, 'solver': 'lbfgs'}\n",
      "0.900 (+/-0.018) for {'activation': 'tanh', 'hidden_layer_sizes': (100,), 'learning_rate': 'constant', 'learning_rate_init': 0.025007500000000002, 'solver': 'adam'}\n",
      "0.884 (+/-0.019) for {'activation': 'tanh', 'hidden_layer_sizes': (100,), 'learning_rate': 'constant', 'learning_rate_init': 0.05000500000000001, 'solver': 'lbfgs'}\n",
      "0.898 (+/-0.012) for {'activation': 'tanh', 'hidden_layer_sizes': (100,), 'learning_rate': 'constant', 'learning_rate_init': 0.05000500000000001, 'solver': 'adam'}\n",
      "0.876 (+/-0.015) for {'activation': 'tanh', 'hidden_layer_sizes': (100,), 'learning_rate': 'constant', 'learning_rate_init': 0.0750025, 'solver': 'lbfgs'}\n",
      "0.892 (+/-0.014) for {'activation': 'tanh', 'hidden_layer_sizes': (100,), 'learning_rate': 'constant', 'learning_rate_init': 0.0750025, 'solver': 'adam'}\n",
      "0.888 (+/-0.016) for {'activation': 'tanh', 'hidden_layer_sizes': (100,), 'learning_rate': 'constant', 'learning_rate_init': 0.1, 'solver': 'lbfgs'}\n",
      "0.896 (+/-0.014) for {'activation': 'tanh', 'hidden_layer_sizes': (100,), 'learning_rate': 'constant', 'learning_rate_init': 0.1, 'solver': 'adam'}\n",
      "0.890 (+/-0.019) for {'activation': 'tanh', 'hidden_layer_sizes': (100,), 'learning_rate': 'adaptive', 'learning_rate_init': 1e-05, 'solver': 'lbfgs'}\n",
      "0.808 (+/-0.038) for {'activation': 'tanh', 'hidden_layer_sizes': (100,), 'learning_rate': 'adaptive', 'learning_rate_init': 1e-05, 'solver': 'adam'}\n",
      "0.882 (+/-0.030) for {'activation': 'tanh', 'hidden_layer_sizes': (100,), 'learning_rate': 'adaptive', 'learning_rate_init': 0.025007500000000002, 'solver': 'lbfgs'}\n",
      "0.898 (+/-0.023) for {'activation': 'tanh', 'hidden_layer_sizes': (100,), 'learning_rate': 'adaptive', 'learning_rate_init': 0.025007500000000002, 'solver': 'adam'}\n",
      "0.884 (+/-0.018) for {'activation': 'tanh', 'hidden_layer_sizes': (100,), 'learning_rate': 'adaptive', 'learning_rate_init': 0.05000500000000001, 'solver': 'lbfgs'}\n",
      "0.900 (+/-0.019) for {'activation': 'tanh', 'hidden_layer_sizes': (100,), 'learning_rate': 'adaptive', 'learning_rate_init': 0.05000500000000001, 'solver': 'adam'}\n",
      "0.885 (+/-0.016) for {'activation': 'tanh', 'hidden_layer_sizes': (100,), 'learning_rate': 'adaptive', 'learning_rate_init': 0.0750025, 'solver': 'lbfgs'}\n",
      "0.896 (+/-0.015) for {'activation': 'tanh', 'hidden_layer_sizes': (100,), 'learning_rate': 'adaptive', 'learning_rate_init': 0.0750025, 'solver': 'adam'}\n",
      "0.883 (+/-0.006) for {'activation': 'tanh', 'hidden_layer_sizes': (100,), 'learning_rate': 'adaptive', 'learning_rate_init': 0.1, 'solver': 'lbfgs'}\n",
      "0.896 (+/-0.018) for {'activation': 'tanh', 'hidden_layer_sizes': (100,), 'learning_rate': 'adaptive', 'learning_rate_init': 0.1, 'solver': 'adam'}\n",
      "0.893 (+/-0.019) for {'activation': 'relu', 'hidden_layer_sizes': (50, 50, 50), 'learning_rate': 'constant', 'learning_rate_init': 1e-05, 'solver': 'lbfgs'}\n",
      "0.871 (+/-0.002) for {'activation': 'relu', 'hidden_layer_sizes': (50, 50, 50), 'learning_rate': 'constant', 'learning_rate_init': 1e-05, 'solver': 'adam'}\n",
      "0.889 (+/-0.021) for {'activation': 'relu', 'hidden_layer_sizes': (50, 50, 50), 'learning_rate': 'constant', 'learning_rate_init': 0.025007500000000002, 'solver': 'lbfgs'}\n",
      "0.880 (+/-0.027) for {'activation': 'relu', 'hidden_layer_sizes': (50, 50, 50), 'learning_rate': 'constant', 'learning_rate_init': 0.025007500000000002, 'solver': 'adam'}\n",
      "0.881 (+/-0.021) for {'activation': 'relu', 'hidden_layer_sizes': (50, 50, 50), 'learning_rate': 'constant', 'learning_rate_init': 0.05000500000000001, 'solver': 'lbfgs'}\n",
      "0.894 (+/-0.024) for {'activation': 'relu', 'hidden_layer_sizes': (50, 50, 50), 'learning_rate': 'constant', 'learning_rate_init': 0.05000500000000001, 'solver': 'adam'}\n",
      "0.887 (+/-0.017) for {'activation': 'relu', 'hidden_layer_sizes': (50, 50, 50), 'learning_rate': 'constant', 'learning_rate_init': 0.0750025, 'solver': 'lbfgs'}\n",
      "0.879 (+/-0.022) for {'activation': 'relu', 'hidden_layer_sizes': (50, 50, 50), 'learning_rate': 'constant', 'learning_rate_init': 0.0750025, 'solver': 'adam'}\n",
      "0.884 (+/-0.015) for {'activation': 'relu', 'hidden_layer_sizes': (50, 50, 50), 'learning_rate': 'constant', 'learning_rate_init': 0.1, 'solver': 'lbfgs'}\n",
      "0.886 (+/-0.011) for {'activation': 'relu', 'hidden_layer_sizes': (50, 50, 50), 'learning_rate': 'constant', 'learning_rate_init': 0.1, 'solver': 'adam'}\n",
      "0.884 (+/-0.018) for {'activation': 'relu', 'hidden_layer_sizes': (50, 50, 50), 'learning_rate': 'adaptive', 'learning_rate_init': 1e-05, 'solver': 'lbfgs'}\n",
      "0.870 (+/-0.002) for {'activation': 'relu', 'hidden_layer_sizes': (50, 50, 50), 'learning_rate': 'adaptive', 'learning_rate_init': 1e-05, 'solver': 'adam'}\n",
      "0.877 (+/-0.016) for {'activation': 'relu', 'hidden_layer_sizes': (50, 50, 50), 'learning_rate': 'adaptive', 'learning_rate_init': 0.025007500000000002, 'solver': 'lbfgs'}\n",
      "0.892 (+/-0.021) for {'activation': 'relu', 'hidden_layer_sizes': (50, 50, 50), 'learning_rate': 'adaptive', 'learning_rate_init': 0.025007500000000002, 'solver': 'adam'}\n",
      "0.882 (+/-0.025) for {'activation': 'relu', 'hidden_layer_sizes': (50, 50, 50), 'learning_rate': 'adaptive', 'learning_rate_init': 0.05000500000000001, 'solver': 'lbfgs'}\n",
      "0.876 (+/-0.023) for {'activation': 'relu', 'hidden_layer_sizes': (50, 50, 50), 'learning_rate': 'adaptive', 'learning_rate_init': 0.05000500000000001, 'solver': 'adam'}\n",
      "0.891 (+/-0.024) for {'activation': 'relu', 'hidden_layer_sizes': (50, 50, 50), 'learning_rate': 'adaptive', 'learning_rate_init': 0.0750025, 'solver': 'lbfgs'}\n",
      "0.882 (+/-0.032) for {'activation': 'relu', 'hidden_layer_sizes': (50, 50, 50), 'learning_rate': 'adaptive', 'learning_rate_init': 0.0750025, 'solver': 'adam'}\n",
      "0.882 (+/-0.024) for {'activation': 'relu', 'hidden_layer_sizes': (50, 50, 50), 'learning_rate': 'adaptive', 'learning_rate_init': 0.1, 'solver': 'lbfgs'}\n",
      "0.876 (+/-0.016) for {'activation': 'relu', 'hidden_layer_sizes': (50, 50, 50), 'learning_rate': 'adaptive', 'learning_rate_init': 0.1, 'solver': 'adam'}\n",
      "0.882 (+/-0.022) for {'activation': 'relu', 'hidden_layer_sizes': (100,), 'learning_rate': 'constant', 'learning_rate_init': 1e-05, 'solver': 'lbfgs'}\n",
      "0.740 (+/-0.184) for {'activation': 'relu', 'hidden_layer_sizes': (100,), 'learning_rate': 'constant', 'learning_rate_init': 1e-05, 'solver': 'adam'}\n",
      "0.881 (+/-0.018) for {'activation': 'relu', 'hidden_layer_sizes': (100,), 'learning_rate': 'constant', 'learning_rate_init': 0.025007500000000002, 'solver': 'lbfgs'}\n",
      "0.895 (+/-0.023) for {'activation': 'relu', 'hidden_layer_sizes': (100,), 'learning_rate': 'constant', 'learning_rate_init': 0.025007500000000002, 'solver': 'adam'}\n",
      "0.889 (+/-0.019) for {'activation': 'relu', 'hidden_layer_sizes': (100,), 'learning_rate': 'constant', 'learning_rate_init': 0.05000500000000001, 'solver': 'lbfgs'}\n",
      "0.891 (+/-0.021) for {'activation': 'relu', 'hidden_layer_sizes': (100,), 'learning_rate': 'constant', 'learning_rate_init': 0.05000500000000001, 'solver': 'adam'}\n",
      "0.888 (+/-0.025) for {'activation': 'relu', 'hidden_layer_sizes': (100,), 'learning_rate': 'constant', 'learning_rate_init': 0.0750025, 'solver': 'lbfgs'}\n",
      "0.898 (+/-0.019) for {'activation': 'relu', 'hidden_layer_sizes': (100,), 'learning_rate': 'constant', 'learning_rate_init': 0.0750025, 'solver': 'adam'}\n",
      "0.888 (+/-0.021) for {'activation': 'relu', 'hidden_layer_sizes': (100,), 'learning_rate': 'constant', 'learning_rate_init': 0.1, 'solver': 'lbfgs'}\n",
      "0.884 (+/-0.029) for {'activation': 'relu', 'hidden_layer_sizes': (100,), 'learning_rate': 'constant', 'learning_rate_init': 0.1, 'solver': 'adam'}\n",
      "0.879 (+/-0.024) for {'activation': 'relu', 'hidden_layer_sizes': (100,), 'learning_rate': 'adaptive', 'learning_rate_init': 1e-05, 'solver': 'lbfgs'}\n",
      "0.743 (+/-0.134) for {'activation': 'relu', 'hidden_layer_sizes': (100,), 'learning_rate': 'adaptive', 'learning_rate_init': 1e-05, 'solver': 'adam'}\n",
      "0.882 (+/-0.014) for {'activation': 'relu', 'hidden_layer_sizes': (100,), 'learning_rate': 'adaptive', 'learning_rate_init': 0.025007500000000002, 'solver': 'lbfgs'}\n",
      "0.897 (+/-0.023) for {'activation': 'relu', 'hidden_layer_sizes': (100,), 'learning_rate': 'adaptive', 'learning_rate_init': 0.025007500000000002, 'solver': 'adam'}\n",
      "0.882 (+/-0.024) for {'activation': 'relu', 'hidden_layer_sizes': (100,), 'learning_rate': 'adaptive', 'learning_rate_init': 0.05000500000000001, 'solver': 'lbfgs'}\n",
      "0.887 (+/-0.021) for {'activation': 'relu', 'hidden_layer_sizes': (100,), 'learning_rate': 'adaptive', 'learning_rate_init': 0.05000500000000001, 'solver': 'adam'}\n",
      "0.884 (+/-0.023) for {'activation': 'relu', 'hidden_layer_sizes': (100,), 'learning_rate': 'adaptive', 'learning_rate_init': 0.0750025, 'solver': 'lbfgs'}\n",
      "0.883 (+/-0.021) for {'activation': 'relu', 'hidden_layer_sizes': (100,), 'learning_rate': 'adaptive', 'learning_rate_init': 0.0750025, 'solver': 'adam'}\n",
      "0.885 (+/-0.018) for {'activation': 'relu', 'hidden_layer_sizes': (100,), 'learning_rate': 'adaptive', 'learning_rate_init': 0.1, 'solver': 'lbfgs'}\n",
      "0.892 (+/-0.016) for {'activation': 'relu', 'hidden_layer_sizes': (100,), 'learning_rate': 'adaptive', 'learning_rate_init': 0.1, 'solver': 'adam'}\n"
     ]
    }
   ],
   "source": [
    "# Best parameter set\n",
    "print('------------------------------------------------------------------------------------------------------------------------')\n",
    "print('Best parameters found:\\n', clf.best_params_)\n",
    "print('------------------------------------------------------------------------------------------------------------------------')\n",
    "\n",
    "# All results\n",
    "means = clf.cv_results_['mean_test_score']\n",
    "stds = clf.cv_results_['std_test_score']\n",
    "for mean, std, params in zip(means, stds, clf.cv_results_['params']):\n",
    "    print(\"%0.3f (+/-%0.03f) for %r\" % (mean, std , params))"
   ]
  },
  {
   "cell_type": "code",
   "execution_count": 38,
   "metadata": {},
   "outputs": [
    {
     "data": {
      "text/plain": [
       "{'activation': 'tanh',\n",
       " 'hidden_layer_sizes': (100,),\n",
       " 'learning_rate': 'adaptive',\n",
       " 'learning_rate_init': 0.05000500000000001,\n",
       " 'solver': 'adam'}"
      ]
     },
     "execution_count": 38,
     "metadata": {},
     "output_type": "execute_result"
    }
   ],
   "source": [
    "clf.best_params_"
   ]
  },
  {
   "cell_type": "code",
   "execution_count": 39,
   "metadata": {},
   "outputs": [],
   "source": [
    "# Optimum model\n",
    "model_NN_optimum = MLPClassifier(activation = 'tanh',\n",
    "                              hidden_layer_sizes=(100,),\n",
    "                              learning_rate = 'adaptive',\n",
    "                              learning_rate_init=0.1,\n",
    "                              solver='adam')"
   ]
  },
  {
   "cell_type": "code",
   "execution_count": 40,
   "metadata": {},
   "outputs": [
    {
     "data": {
      "text/html": [
       "<div>\n",
       "<style scoped>\n",
       "    .dataframe tbody tr th:only-of-type {\n",
       "        vertical-align: middle;\n",
       "    }\n",
       "\n",
       "    .dataframe tbody tr th {\n",
       "        vertical-align: top;\n",
       "    }\n",
       "\n",
       "    .dataframe thead th {\n",
       "        text-align: right;\n",
       "    }\n",
       "</style>\n",
       "<table border=\"1\" class=\"dataframe\">\n",
       "  <thead>\n",
       "    <tr style=\"text-align: right;\">\n",
       "      <th></th>\n",
       "      <th>Time</th>\n",
       "      <th>Train</th>\n",
       "      <th>Test</th>\n",
       "    </tr>\n",
       "  </thead>\n",
       "  <tbody>\n",
       "    <tr>\n",
       "      <th>Standard</th>\n",
       "      <td>3.318+/-0.1</td>\n",
       "      <td>0.964+/-0.0</td>\n",
       "      <td>0.906+/-0.02</td>\n",
       "    </tr>\n",
       "    <tr>\n",
       "      <th>Optimum</th>\n",
       "      <td>1.021+/-0.29</td>\n",
       "      <td>0.985+/-0.02</td>\n",
       "      <td>0.881+/-0.03</td>\n",
       "    </tr>\n",
       "  </tbody>\n",
       "</table>\n",
       "</div>"
      ],
      "text/plain": [
       "                  Time         Train          Test\n",
       "Standard   3.318+/-0.1   0.964+/-0.0  0.906+/-0.02\n",
       "Optimum   1.021+/-0.29  0.985+/-0.02  0.881+/-0.03"
      ]
     },
     "execution_count": 40,
     "metadata": {},
     "output_type": "execute_result"
    }
   ],
   "source": [
    "df = pd.DataFrame(columns = ['Time','Train','Test'], index = ['Standard', 'Optimum'])\n",
    "show_results(df, model_NN, model_NN_optimum)"
   ]
  },
  {
   "cell_type": "code",
   "execution_count": 41,
   "metadata": {},
   "outputs": [
    {
     "name": "stdout",
     "output_type": "stream",
     "text": [
      "___________________________________________________________________________________________________________\n",
      "__                                            Comparative NN                                             __\n",
      "___________________________________________________________________________________________________________\n",
      "                                                     TRAIN                                                 \n",
      "-----------------------------------------------------------------------------------------------------------\n",
      "              precision    recall  f1-score   support\n",
      "\n",
      "           0       1.00      1.00      1.00      1303\n",
      "           1       1.00      1.00      1.00       193\n",
      "\n",
      "    accuracy                           1.00      1496\n",
      "   macro avg       1.00      1.00      1.00      1496\n",
      "weighted avg       1.00      1.00      1.00      1496\n",
      "\n",
      "[[1303    0]\n",
      " [   0  193]]\n",
      "___________________________________________________________________________________________________________\n",
      "                                                VALIDATION                                                 \n",
      "-----------------------------------------------------------------------------------------------------------\n",
      "              precision    recall  f1-score   support\n",
      "\n",
      "           0       0.92      0.96      0.94       434\n",
      "           1       0.60      0.42      0.49        65\n",
      "\n",
      "    accuracy                           0.89       499\n",
      "   macro avg       0.76      0.69      0.71       499\n",
      "weighted avg       0.88      0.89      0.88       499\n",
      "\n",
      "[[416  18]\n",
      " [ 38  27]]\n"
     ]
    }
   ],
   "source": [
    "# Compare training predict versus validation\n",
    "\n",
    "print('___________________________________________________________________________________________________________')\n",
    "print('__                                            Comparative NN                                             __')\n",
    "model_NN_optimum=model_NN_optimum.fit(X_train,y_train)\n",
    "labels_train = model_NN_optimum.predict(X_train)\n",
    "labels_val = model_NN_optimum.predict(X_val)\n",
    "metrics(y_train = y_train, pred_train = labels_train, y_val = y_val, pred_val = labels_val)"
   ]
  },
  {
   "cell_type": "markdown",
   "metadata": {},
   "source": [
    "__Conclusion__: As we can see from the collect of the different F1-scores all the methods are better at predicting 0 than 1, it is because our dataset is negatively unbalanced.\n",
    "\n",
    "<table border=\"1\">\n",
    " <tr>\n",
    "    <td><b>Model</b></td>\n",
    "    <td><b>LR</b></td>\n",
    "    <td><b>DT</b></td>\n",
    "    <td><b>SVM</b></td>\n",
    "    <td><b>RF</b></td>\n",
    "    <td><b>NN</b></td>     \n",
    " </tr>\n",
    " <tr>\n",
    "    <td>F1- score (train)</td>\n",
    "    <td><b>0.93</b></td>\n",
    "    <td><b>0.94</b></td>\n",
    "    <td><b>0.94</b></td>\n",
    "    <td><b>0.94</b></td>\n",
    "    <td><b>0.94</b></td>     \n",
    " </tr>\n",
    " <tr>\n",
    "    <td>F1- score (validation)</td>\n",
    "    <td><b>0.40</b></td>\n",
    "    <td><b>0.40</b></td>\n",
    "    <td><b>0.17</b></td>\n",
    "    <td><b>0.41</b></td>\n",
    "    <td><b>0.50</b></td>     \n",
    " </tr>\n",
    "</table>\n",
    "\n",
    "The method with a better F1-score predicting the positive cases is Neural Network, with a F1-score of 0.5."
   ]
  },
  {
   "cell_type": "markdown",
   "metadata": {},
   "source": [
    "### ROC Curve and AUC Scores\n",
    "\n",
    "This technique is higly used to evaluate the different model's performance in classification problems. It tell us how much a model is able to distinguish between classes while predicting. ROC is a probability curve where AUC is the area bellow this curve. The AUC is an estimate of the probability that a classifier will rank a randomly chosen positive instance higher than a randomly chosen negative instance. This way, we'll access which model performes better to be used by LaGoste Stores."
   ]
  },
  {
   "cell_type": "markdown",
   "metadata": {},
   "source": [
    "#### Prediction probabilities"
   ]
  },
  {
   "cell_type": "code",
   "execution_count": 42,
   "metadata": {},
   "outputs": [],
   "source": [
    "# Baseline, 0, the worst case scenario\n",
    "r_probs = [0 for _ in range(len(y_test))]\n",
    "\n",
    "# probability of the predicted values\n",
    "rf_probs = model_RF.predict_proba(X_test) \n",
    "dt_probs = model_DT.predict_proba(X_test)\n",
    "lr_probs = model_LR.predict_proba(X_test)\n",
    "svm_probs = model_SVM.predict_proba(X_test)\n",
    "nn_probs = model_NN_optimum.predict_proba(X_test)"
   ]
  },
  {
   "cell_type": "code",
   "execution_count": 43,
   "metadata": {},
   "outputs": [],
   "source": [
    "# Probabilities for the positive outcome is kept.\n",
    "\n",
    "rf_probs = rf_probs[:, 1]\n",
    "dt_probs = dt_probs[:, 1]\n",
    "lr_probs = lr_probs[:, 1]\n",
    "svm_probs = svm_probs[:, 1]\n",
    "nn_probs = nn_probs[:, 1]"
   ]
  },
  {
   "cell_type": "markdown",
   "metadata": {},
   "source": [
    "#### Computing AUROC and ROC curve values"
   ]
  },
  {
   "cell_type": "code",
   "execution_count": 44,
   "metadata": {},
   "outputs": [],
   "source": [
    "# Calculating scores for every model\n",
    "\n",
    "r_auc = roc_auc_score(y_test, r_probs)\n",
    "rf_auc = roc_auc_score(y_test, rf_probs)\n",
    "dt_auc = roc_auc_score(y_test, dt_probs)\n",
    "lr_auc = roc_auc_score(y_test, lr_probs)\n",
    "svm_auc = roc_auc_score(y_test, svm_probs)\n",
    "nn_auc = roc_auc_score(y_test, nn_probs)"
   ]
  },
  {
   "cell_type": "code",
   "execution_count": 45,
   "metadata": {},
   "outputs": [
    {
     "name": "stdout",
     "output_type": "stream",
     "text": [
      "Random (chance) Prediction: AUROC = 0.5000\n",
      "Random Forest: AUROC = 0.8744\n",
      "Decision Tree: AUROC = 0.8080\n",
      "Logistic Regression: AUROC = 0.8809\n",
      "Support Vector Machine: AUROC = 0.9010\n",
      "Neural Network: AUROC = 0.8993\n"
     ]
    }
   ],
   "source": [
    "print('Random (chance) Prediction: AUROC = %.4f' % (r_auc))\n",
    "print('Random Forest: AUROC = %.4f' % (rf_auc))\n",
    "print('Decision Tree: AUROC = %.4f' % (dt_auc))\n",
    "print('Logistic Regression: AUROC = %.4f' % (lr_auc))\n",
    "print('Support Vector Machine: AUROC = %.4f' % (svm_auc))\n",
    "print('Neural Network: AUROC = %.4f' % (nn_auc))"
   ]
  },
  {
   "cell_type": "code",
   "execution_count": 46,
   "metadata": {},
   "outputs": [],
   "source": [
    "# Calculating False Positive Rate and True Positive Rate to build the ROC Curve\n",
    "\n",
    "r_fpr, r_tpr, _ = roc_curve(y_test, r_probs)\n",
    "rf_fpr, rf_tpr, _ = roc_curve(y_test, rf_probs)\n",
    "dt_fpr, dt_tpr, _ = roc_curve(y_test, dt_probs)\n",
    "lr_fpr, lr_tpr, _ = roc_curve(y_test, lr_probs)\n",
    "svm_fpr, svm_tpr, _ = roc_curve(y_test, svm_probs)\n",
    "nn_fpr, nn_tpr, _ = roc_curve(y_test, nn_probs)"
   ]
  },
  {
   "cell_type": "code",
   "execution_count": 47,
   "metadata": {},
   "outputs": [
    {
     "data": {
      "image/png": "[encoded data removed]",
      "text/plain": [
       "<Figure size 1080x720 with 1 Axes>"
      ]
     },
     "metadata": {
      "needs_background": "light"
     },
     "output_type": "display_data"
    }
   ],
   "source": [
    "# Ploting the ROC Curve\n",
    "\n",
    "figure = plt.figure(figsize=(15,10))\n",
    "plt.plot(r_fpr, r_tpr, linestyle='--', label='Random prediction (AUROC = %0.4f)' % r_auc)\n",
    "plt.plot(rf_fpr, rf_tpr, marker='.', label='Random Forest (AUROC = %0.4f)' % rf_auc)\n",
    "plt.plot(dt_fpr, dt_tpr, marker='.', label='Decision Tree (AUROC = %0.4f)' % dt_auc)\n",
    "plt.plot(lr_fpr, lr_tpr, marker='.', label='Logistic Regression (AUROC = %0.4f)' % lr_auc)\n",
    "plt.plot(svm_fpr, svm_tpr, marker='.', label='Support Vector Machine (AUROC = %0.4f)' % svm_auc)\n",
    "plt.plot(nn_fpr, nn_tpr, marker='.', label='Neural Network (AUROC = %0.4f)' % nn_auc,)\n",
    "\n",
    "plt.title('ROC Plot')\n",
    "plt.xlabel('False Positive Rate')\n",
    "plt.ylabel('True Positive Rate')\n",
    "plt.legend()\n",
    "plt.show()"
   ]
  },
  {
   "cell_type": "markdown",
   "metadata": {},
   "source": [
    "__Conclusion__: By analysing the graph above we verify that __Support Vector Machine has the best performance__ amongst the models with an AUROC 0.8969."
   ]
  },
  {
   "cell_type": "markdown",
   "metadata": {},
   "source": [
    "## Final Result"
   ]
  },
  {
   "cell_type": "markdown",
   "metadata": {},
   "source": [
    "The F1-Score and the AUROC method have given us different results, by the F1-score the best metod is the Neural Network and according to the AUROC we should use the Support Vector Machine.\n",
    "\n",
    "As our data is highly unbalanced, as confirmed in the confusion matrix, and the AUROC is more sensitive to this we will opt to use the Neural Network model to predict the customers we shall contact and who have higher probabilities of accepting the campaig."
   ]
  },
  {
   "cell_type": "code",
   "execution_count": 48,
   "metadata": {},
   "outputs": [],
   "source": [
    "new_data = pd.DataFrame(y_test)\n",
    "new_data[\"Predict\"] = model_NN_optimum.predict(X_test)"
   ]
  },
  {
   "cell_type": "code",
   "execution_count": 49,
   "metadata": {},
   "outputs": [
    {
     "data": {
      "text/plain": [
       "DepVar     0.11022\n",
       "Predict    0.11022\n",
       "dtype: float64"
      ]
     },
     "execution_count": 49,
     "metadata": {},
     "output_type": "execute_result"
    }
   ],
   "source": [
    "# Errors percentage\n",
    "new_data.loc[new_data[\"DepVar\"] != new_data[\"Predict\"]].count()/len(new_data)"
   ]
  },
  {
   "cell_type": "code",
   "execution_count": 50,
   "metadata": {},
   "outputs": [
    {
     "data": {
      "text/plain": [
       "DepVar     0.88978\n",
       "Predict    0.88978\n",
       "dtype: float64"
      ]
     },
     "execution_count": 50,
     "metadata": {},
     "output_type": "execute_result"
    }
   ],
   "source": [
    "# Correct predictions percentage\n",
    "new_data.loc[new_data[\"DepVar\"] == new_data[\"Predict\"]].count()/len(new_data)"
   ]
  },
  {
   "cell_type": "markdown",
   "metadata": {},
   "source": [
    "## Predicted Profit\n",
    "\n",
    " \n",
    "\n",
    "In the following section we are predicting the appoximate profit of the marketing campaign through the formula,\n",
    "\n",
    " \n",
    "\n",
    "$$Profit = {Revenue - Cost}$$\n",
    "\n",
    " \n",
    "\n",
    "$$ where, $$\n",
    "\n",
    " \n",
    "\n",
    "$$Revenue = {CustomersOffer_1 * PotenyialCustomers * SaleValue * ModelF1Score}$$\n",
    "\n",
    " \n",
    "\n",
    "$$Cost = {CustomersOffer_1 * PotentialCustomers * ContactCost}$$\n",
    "\n",
    " \n",
    "\n",
    "Variables:\n",
    "- PotentialCustomers - Total customers that are in the company's database and might be able to be contacted;\n",
    "- CustomersOffer_1 - Proportion of customers that might accept the offer (number based in the 2500 customers sample);\n",
    "- SaleValue - Value of the product the company is offering;\n",
    "- ContactCost - Cost of each customer to be contacted in the marketing campaign;\n",
    "- CorrectPredictions - the test accuracy of our best model."
   ]
  },
  {
   "cell_type": "code",
   "execution_count": 51,
   "metadata": {},
   "outputs": [],
   "source": [
    "def campaignProfit(PotencialCustomers, CustomersOffer_1, SaleValue, ContactCost, CorrectPredictions):\n",
    "    Revenue = CustomersOffer_1 * PotencialCustomers * SaleValue * CorrectPredictions\n",
    "    Cost = CustomersOffer_1 * PotencialCustomers * ContactCost\n",
    "    Predicted_Profit = Revenue - Cost\n",
    "    print(\"The approximate profit of the campaign using the Neural Networks model is %0.2f\" % Predicted_Profit, \"€.\")"
   ]
  },
  {
   "cell_type": "code",
   "execution_count": 52,
   "metadata": {},
   "outputs": [
    {
     "name": "stdout",
     "output_type": "stream",
     "text": [
      "The approximate profit of the campaign using the Neural Networks model is 412087.50 €.\n"
     ]
    }
   ],
   "source": [
    "campaignProfit(247500, 0.125, 20, 4, 0.866)"
   ]
  },
  {
   "cell_type": "markdown",
   "metadata": {},
   "source": [
    "# Conclusion"
   ]
  },
  {
   "cell_type": "markdown",
   "metadata": {},
   "source": [
    "In this project we built several predictive models such as Random Forest, SVM, Decision Trees and Neural Networks, in order to identify the customers with the biggest potential to buy the new LAGoste’s product. Besides evaluating our models with ROC curves and AUC scores, we based our decision about the best model on F1-Scores since our data is imbalance. And the better model we obtained was the Neural Networks. With this predictive model, the company will be able to do the direct marketing campaign and obtain profits from it."
   ]
  }
 ],
 "metadata": {
  "kernelspec": {
   "display_name": "Python 3",
   "language": "python",
   "name": "python3"
  },
  "language_info": {
   "codemirror_mode": {
    "name": "ipython",
    "version": 3
   },
   "file_extension": ".py",
   "mimetype": "text/x-python",
   "name": "python",
   "nbconvert_exporter": "python",
   "pygments_lexer": "ipython3",
   "version": "3.7.4"
  },
  "toc": {
   "base_numbering": 1,
   "nav_menu": {},
   "number_sections": true,
   "sideBar": true,
   "skip_h1_title": true,
   "title_cell": "Table of Contents",
   "title_sidebar": "Contents",
   "toc_cell": false,
   "toc_position": {},
   "toc_section_display": true,
   "toc_window_display": true
  },
  "varInspector": {
   "cols": {
    "lenName": 16,
    "lenType": 16,
    "lenVar": 40
   },
   "kernels_config": {
    "python": {
     "delete_cmd_postfix": "",
     "delete_cmd_prefix": "del ",
     "library": "var_list.py",
     "varRefreshCmd": "print(var_dic_list())"
    },
    "r": {
     "delete_cmd_postfix": ") ",
     "delete_cmd_prefix": "rm(",
     "library": "var_list.r",
     "varRefreshCmd": "cat(var_dic_list()) "
    }
   },
   "types_to_exclude": [
    "module",
    "function",
    "builtin_function_or_method",
    "instance",
    "_Feature"
   ],
   "window_display": false
  }
 },
 "nbformat": 4,
 "nbformat_minor": 2
}
